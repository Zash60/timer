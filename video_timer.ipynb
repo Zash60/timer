# ===================================================================================
# CÉLULA 1: UPLOAD, CONFIGURAÇÃO E PRÉVIA MOBILE (TUDO EM FPS DO VÍDEO, TIMERS NA PRÉVIA, UPLOAD DE FONTES)
# ===================================================================================

# As linhas de instalação foram removidas. O Binder faz isso automaticamente
# usando os arquivos 'requirements.txt' e 'apt.txt'.
# !pip install opencv-python-headless Pillow webcolors ipywidgets tqdm --quiet
# !apt-get install -y fonts-roboto fonts-dejavu fonts-open-sans ffmpeg --quiet

import cv2
import os
import base64
from io import BytesIO
# A linha 'from google.colab import files' foi removida, pois é específica do Colab.
import ipywidgets as widgets
from IPython.display import display, HTML, clear_output
from PIL import Image, ImageDraw, ImageFont
import webcolors
import numpy as np
from tqdm.notebook import tqdm

if os.path.exists("/content/video_para_editar.mp4"):
    os.remove("/content/video_para_editar.mp4")

# --- MUDANÇA PRINCIPAL PARA O BINDER ---
# 1. Use o botão "Upload" na barra lateral do Jupyter para enviar seu vídeo.
# 2. Coloque o nome EXATO do arquivo de vídeo enviado na linha abaixo.
VIDEO_FILENAME = "seu_video.mp4" # <--- MUDE ISTO para o nome do seu arquivo de vídeo

# O código agora verifica se o arquivo que você especificou existe.
if not os.path.exists(VIDEO_FILENAME):
    print(f"\n❌ ERRO: Arquivo '{VIDEO_FILENAME}' não encontrado.")
    print("Por favor, use o botão 'Upload' na interface do Jupyter (à esquerda) para enviar seu vídeo e certifique-se de que o nome na variável VIDEO_FILENAME está correto.")
else:
    # Renomeia o arquivo para o nome padrão que o resto do script espera.
    os.rename(VIDEO_FILENAME, "video_para_editar.mp4")
    clear_output(wait=True)
    uploaded_filename = VIDEO_FILENAME # Usado para a mensagem de sucesso

    FONT_UPLOAD_DIR = "/content/user_fonts"
    os.makedirs(FONT_UPLOAD_DIR, exist_ok=True)

    # --- Utilitários ---
    def list_system_fonts():
        font_dirs = [
            "/usr/share/fonts/truetype/roboto/",
            "/usr/share/fonts/truetype/dejavu/",
            "/usr/share/fonts/truetype/open-sans/",
            FONT_UPLOAD_DIR
        ]
        font_map = {}
        for dir_path in font_dirs:
            if os.path.exists(dir_path):
                for root, _, filenames in os.walk(dir_path):
                    for filename in filenames:
                        if filename.lower().endswith(".ttf"):
                            font_name = os.path.splitext(filename)[0].replace('-', ' ').title()
                            font_map[font_name] = os.path.join(root, filename)
        return font_map

    def color_name_to_rgb(c): return webcolors.name_to_rgb(c)

    def format_time(frame_count, fps):
        total_ms = int(round((frame_count / fps) * 1000))
        minutes = total_ms // 60000
        seconds = (total_ms % 60000) // 1000
        milliseconds = total_ms % 1000
        return f"{minutes:02d}:{seconds:02d}:{milliseconds:03d}"

    def parse_time(time_str):
        try:
            parts = time_str.strip().split(':')
            m, s, ms = int(parts[0]), int(parts[1]), int(parts[2])
            return m * 60 + s + ms / 1000.0
        except (ValueError, IndexError): return 0.0

    def time_to_frame(t, fps):
        return int(round(t * fps))

    def parse_load_times(load_entries):
        """Converte os dados dos widgets de load em uma lista de tuplas (start_time, end_time) em segundos."""
        load_times = []
        for entry in load_entries:
            start_sec = parse_time(entry['start'].value)
            end_sec = parse_time(entry['end'].value)
            if start_sec < end_sec:
                load_times.append((start_sec, end_sec))
        return load_times

    def is_in_load_time(current_sec, load_times):
        """Verifica se o tempo atual está dentro de um intervalo de load time."""
        for start, end in load_times:
            if start <= current_sec <= end:
                return True
        return False

    def calculate_rta_time(current_frame, start_frame, end_frame, load_times, include_load_times, fps):
        """Calcula o tempo RTA com base nos load times."""
        current_sec = current_frame / fps
        start_sec = start_frame / fps
        end_sec = end_frame / fps
        if current_frame < start_frame:
            return 0
        if current_sec >= end_sec:
            time_elapsed = end_sec - start_sec
        else:
            time_elapsed = current_sec - start_sec
        if not include_load_times:
            load_duration = sum(min(end_sec, end) - max(start_sec, start) for start, end in load_times if start <= end_sec)
            return max(0, time_elapsed - load_duration)
        return time_elapsed

    def calculate_igt_time(current_frame, start_frame, end_frame, load_times, fps):
        """Calcula o tempo IGT excluindo load times."""
        current_sec = current_frame / fps
        start_sec = start_frame / fps
        end_sec = end_frame / fps
        if current_frame < start_frame:
            return 0
        if current_sec >= end_sec:
            time_elapsed = end_sec - start_sec
        else:
            time_elapsed = current_sec - start_sec
        load_duration = sum(min(end_sec, end) - max(start_sec, start) for start, end in load_times if start <= end_sec)
        return max(0, time_elapsed - load_duration)

    # --- Carregar propriedades do vídeo ---
    cap = cv2.VideoCapture("video_para_editar.mp4")
    video_props = {
        'fps': cap.get(cv2.CAP_PROP_FPS),
        'w': int(cap.get(cv2.CAP_PROP_FRAME_WIDTH)),
        'h': int(cap.get(cv2.CAP_PROP_FRAME_HEIGHT)),
        'frames': int(cap.get(cv2.CAP_PROP_FRAME_COUNT))
    }
    cap.release()

    # --- Estado para início/fim e loads ---
    state = {"start_frame": 0, "end_frame": int(video_props['frames']) - 1, "current_load_index": 0}
    load_entries = []

    # --- Widgets de configuração do timer ---
    def get_font_map_and_dropdown():
        font_map = list_system_fonts()
        dd = widgets.Dropdown(
            options=font_map.keys(),
            description="Fonte:",
            style={'description_width': 'initial'},
            layout=widgets.Layout(width='99%', margin='2px 0')
        )
        return font_map, dd

    font_map, font_widget = get_font_map_and_dropdown()
    color_options = ['white', 'black', 'red', 'blue', 'green', 'yellow', 'purple', 'orange']
    style = {'description_width': 'initial'}
    layout = widgets.Layout(width='99%', margin='2px 0')

    timer_type_widget = widgets.Dropdown(
        options=['RTA', 'IGT', 'Ambos (RTA + IGT)'],
        value='RTA',
        description="Tipo de Timer:",
        style=style,
        layout=layout
    )
    include_load_times_widget = widgets.Checkbox(
        value=False,
        description="Incluir Load Times no RTA?",
        style=style,
        layout=layout
    )
    font_size_widget = widgets.IntSlider(value=36, min=10, max=120, step=2, description="Tamanho da Fonte:", style=style, layout=layout)
    font_color_widget = widgets.Dropdown(options=color_options, value='white', description="Cor:", style=style, layout=layout)
    position_x_rta_widget = widgets.IntSlider(value=int(video_props['w'] * 0.05), min=0, max=video_props['w'], description="Posição X (RTA):", style=style, layout=layout)
    position_y_rta_widget = widgets.IntSlider(value=int(video_props['h'] * 0.85), min=0, max=video_props['h'], description="Posição Y (RTA):", style=style, layout=layout)
    position_x_igt_widget = widgets.IntSlider(value=int(video_props['w'] * 0.05), min=0, max=video_props['w'], description="Posição X (IGT):", style=style, layout=layout)
    position_y_igt_widget = widgets.IntSlider(value=int(video_props['h'] * 0.90), min=0, max=video_props['h'], description="Posição Y (IGT):", style=style, layout=layout)

    # --- Widgets para loads (estilo timer normal) ---
    load_container = widgets.VBox(layout=widgets.Layout(width='99%'))
    add_load_btn = widgets.Button(description="+ Add Load", button_style='success', layout=widgets.Layout(width='auto'))

    # Dropdown para selecionar loads anteriores
    load_selector = widgets.Dropdown(
        options=[("Nenhum", 0)] + [(f"Load {i+1}", i+1) for i in range(len(load_entries))],
        value=0,
        description="Selecionar Load:",
        style={'description_width': 'initial'},
        layout=layout
    )

    def update_load_selector(change):
        state["current_load_index"] = load_selector.value
        update_interactive_preview()

    load_selector.observe(update_load_selector, names='value')

    def add_load(b):
        load_index = len(load_entries) + 1
        start_time_widget = widgets.Text(value="00:00:000", description=f"Load {load_index} Início (M:S:ms):", style=style, layout=layout)
        end_time_widget = widgets.Text(value="00:00:000", description=f"Load {load_index} Fim (M:S:ms):", style=style, layout=layout)

        def on_start_time_change(change):
            update_interactive_preview()
            load_selector.options = [("Nenhum", 0)] + [(f"Load {i+1}", i+1) for i in range(len(load_entries))]

        def on_end_time_change(change):
            update_interactive_preview()
            load_selector.options = [("Nenhum", 0)] + [(f"Load {i+1}", i+1) for i in range(len(load_entries))]

        start_time_widget.observe(on_start_time_change, names='value')
        end_time_widget.observe(on_end_time_change, names='value')

        # Botões de navegação para o início do load
        def update_start_frame(diff, unit, start_widget, end_widget):
            current_frame = time_to_frame(parse_time(start_widget.value), video_props['fps'])
            end_frame_val = time_to_frame(parse_time(end_widget.value), video_props['fps'])
            maxval = max(end_frame_val, 0)
            if unit == 'f':
                step = diff
            elif unit == 's':
                step = int(diff * video_props['fps'])
            elif unit == 'm':
                step = int(diff * 60 * video_props['fps'])
            new_frame = min(max(current_frame + step, 0), maxval)
            start_widget.value = format_time(new_frame, video_props['fps'])
            state["current_load_index"] = load_index
            update_interactive_preview()
            load_selector.options = [("Nenhum", 0)] + [(f"Load {i+1}", i+1) for i in range(len(load_entries))]

        # Botões de navegação para o fim do load
        def update_end_frame(diff, unit, start_widget, end_widget):
            current_frame = time_to_frame(parse_time(end_widget.value), video_props['fps'])
            start_frame_val = time_to_frame(parse_time(start_widget.value), video_props['fps'])
            minval = min(start_frame_val, int(video_props['frames']) - 1)
            if unit == 'f':
                step = diff
            elif unit == 's':
                step = int(diff * video_props['fps'])
            elif unit == 'm':
                step = int(diff * 60 * video_props['fps'])
            new_frame = min(max(current_frame + step, minval), int(video_props['frames']) - 1)
            end_widget.value = format_time(new_frame, video_props['fps'])
            state["current_load_index"] = load_index
            update_interactive_preview()
            load_selector.options = [("Nenhum", 0)] + [(f"Load {i+1}", i+1) for i in range(len(load_entries))]

        def make_nav_buttons(update_func, start_widget, end_widget):
            rows = [
                [(-5, "-5f", 'f'), (-3, "-3f", 'f'), (-1, "-1f", 'f'), (1, "+1f", 'f'), (3, "+3f", 'f'), (5, "+5f", 'f')],
                [(-5, "-5s", 's'), (-3, "-3s", 's'), (-1, "-1s", 's'), (1, "+1s", 's'), (3, "+3s", 's'), (5, "+5s", 's')],
                [(-5, "-5m", 'm'), (-3, "-3m", 'm'), (-1, "-1m", 'm'), (1, "+1m", 'm'), (3, "+3m", 'm'), (5, "+5m", 'm')]
            ]
            box_rows = []
            for row in rows:
                btns = []
                for delta, lbl, unit in row:
                    btn = widgets.Button(description=lbl, layout=widgets.Layout(width="52px", height="32px", margin="1px 1px 1px 1px"))
                    btn.on_click(lambda b, d=delta, u=unit: update_func(d, u, start_widget, end_widget))
                    btns.append(btn)
                box_rows.append(widgets.HBox(btns, layout=widgets.Layout(justify_content='center')))
            return widgets.VBox(box_rows, layout=widgets.Layout(width='100%'))

        nav_start = make_nav_buttons(update_start_frame, start_time_widget, end_time_widget)
        nav_end = make_nav_buttons(update_end_frame, start_time_widget, end_time_widget)

        remove_load_btn = widgets.Button(description="Remove Load", button_style='danger', layout=widgets.Layout(width='99%'))

        def remove_load(b):
            if load_index - 1 < len(load_entries):
                load_entries.pop(load_index - 1)
                # Renumerar os widgets restantes
                for i, entry in enumerate(load_entries, 1):
                    entry['start'].description = f"Load {i} Início (M:S:ms):"
                    entry['end'].description = f"Load {i} Fim (M:S:ms):"
                # Atualizar a interface
                children = [widgets.VBox([
                    entry['start'], entry['nav_start'],
                    entry['end'], entry['nav_end'],
                    entry['remove']
                ]) for entry in load_entries]
                load_container.children = tuple(children) if children else ()
                # Ajustar o índice atual
                if state["current_load_index"] >= len(load_entries) + 1:
                    state["current_load_index"] = max(0, len(load_entries))
                load_selector.options = [("Nenhum", 0)] + [(f"Load {i+1}", i+1) for i in range(len(load_entries))]
                load_selector.value = state["current_load_index"]
                update_interactive_preview()

        remove_load_btn.on_click(remove_load)

        entry = {
            'start': start_time_widget,
            'end': end_time_widget,
            'nav_start': nav_start,
            'nav_end': nav_end,
            'remove': remove_load_btn
        }
        load_entries.append(entry)
        children = [widgets.VBox([
            entry['start'], entry['nav_start'],
            entry['end'], entry['nav_end'],
            entry['remove']
        ]) for entry in load_entries]
        load_container.children = tuple(children) if children else ()
        state["current_load_index"] = load_index
        load_selector.options = [("Nenhum", 0)] + [(f"Load {i+1}", i+1) for i in range(len(load_entries))]
        update_interactive_preview()

    add_load_btn.on_click(add_load)

    # --- Botão de upload de fonte ---
    font_upload_btn = widgets.FileUpload(
        description="Upload Fonte (.ttf)",
        accept=".ttf",
        multiple=False,
        layout=widgets.Layout(width='99%')
    )
    font_upload_output = widgets.Output()

    def on_font_upload_change(change):
        if font_upload_btn.value:
            # Em Jupyter/Binder, o valor é um dicionário onde as chaves são os nomes dos arquivos
            uploaded_fname = list(font_upload_btn.value.keys())[0]
            uploaded_content = font_upload_btn.value[uploaded_fname]['content']
            font_path = os.path.join(FONT_UPLOAD_DIR, uploaded_fname)
            with open(font_path, "wb") as f:
                f.write(uploaded_content)
            global font_map
            font_map, new_dd = get_font_map_and_dropdown()
            cur_font = font_widget.value
            font_widget.options = new_dd.options
            font_widget.value = os.path.splitext(uploaded_fname)[0].replace('-', ' ').title()
            with font_upload_output:
                clear_output()
                print(f"Fonte '{uploaded_fname}' adicionada!")
            update_interactive_preview()
            font_upload_btn.value.clear() # Limpa o buffer de upload

    font_upload_btn.observe(on_font_upload_change, names='value')

    # --- Labels e outputs ---
    start_time_label = widgets.Label()
    start_frame_label = widgets.Label()
    start_image_out = widgets.Output()
    end_time_label = widgets.Label()
    end_frame_label = widgets.Label()
    end_image_out = widgets.Output()
    load_start_preview = widgets.Output()
    load_end_preview = widgets.Output()

    # --- Função para mostrar frame com timers sobrepostos ---
    def show_frame(frame_number, out_widget, label_time, label_frame, is_start):
        cap = cv2.VideoCapture("video_para_editar.mp4")
        cap.set(cv2.CAP_PROP_POS_FRAMES, frame_number)
        ret, frame = cap.read()
        cap.release()
        with out_widget:
            clear_output(wait=True)
            if ret:
                pil_img = Image.fromarray(cv2.cvtColor(frame, cv2.COLOR_BGR2RGB))
                try:
                    timer_fps = video_props['fps']
                    font_path = font_map[font_widget.value]
                    font = ImageFont.truetype(font_path, font_size_widget.value)
                    color = color_name_to_rgb(font_color_widget.value)
                    load_times = parse_load_times(load_entries)
                    draw = ImageDraw.Draw(pil_img)
                    timer_type = timer_type_widget.value

                    if timer_type == 'RTA' or timer_type == 'Ambos (RTA + IGT)':
                        rta_time = calculate_rta_time(frame_number, state["start_frame"], state["end_frame"], load_times, include_load_times_widget.value, timer_fps)
                        rta_str = format_time(int(rta_time * timer_fps), timer_fps)
                        draw.text((position_x_rta_widget.value, position_y_rta_widget.value), f"RTA: {rta_str}", font=font, fill=color)

                    if timer_type == 'IGT' or timer_type == 'Ambos (RTA + IGT)':
                        igt_time = calculate_igt_time(frame_number, state["start_frame"], state["end_frame"], load_times, timer_fps)
                        igt_str = format_time(int(igt_time * timer_fps), timer_fps)
                        draw.text((position_x_igt_widget.value, position_y_igt_widget.value), f"IGT: {igt_str}", font=font, fill=color)

                except Exception as e:
                    pass
                with BytesIO() as buffer:
                    pil_img.save(buffer, format="PNG")
                    img_str = base64.b64encode(buffer.getvalue()).decode()
                display(HTML(f'<img src="data:image/png;base64,{img_str}" style="max-width: 99%; height: auto; border: 1px solid grey;" />'))
            else:
                display(HTML(f'<span style="color:red">[Frame não disponível]</span>'))
        time_txt = format_time(frame_number, video_props['fps'])
        label_time.value = f"Tempo: {time_txt}"
        label_frame.value = f"Frame: {frame_number} / {int(video_props['frames'])-1}"

    def update_interactive_preview():
        if state["current_load_index"] > 0 and state["current_load_index"] - 1 < len(load_entries):
            current_entry = load_entries[state["current_load_index"] - 1]
            start_frame = time_to_frame(parse_time(current_entry['start'].value), video_props['fps'])
            end_frame = time_to_frame(parse_time(current_entry['end'].value), video_props['fps'])
            show_frame(start_frame, load_start_preview, start_time_label, start_frame_label, True)
            show_frame(end_frame, load_end_preview, end_time_label, end_frame_label, False)
        else:
            with load_start_preview:
                clear_output(wait=True)
                display(HTML(f'<span style="color:grey">[Selecione um Load]</span>'))
            with load_end_preview:
                clear_output(wait=True)
                display(HTML(f'<span style="color:grey">[Selecione um Load]</span>'))

    # --- Handlers de navegação ---
    def update_start_frame(diff, unit):
        maxval = state["end_frame"]
        if unit == 'f':
            step = diff
        elif unit == 's':
            step = int(diff * video_props['fps'])
        elif unit == 'm':
            step = int(diff * 60 * video_props['fps'])
        state["start_frame"] = min(max(state["start_frame"] + step, 0), maxval)
        show_frame(state["start_frame"], start_image_out, start_time_label, start_frame_label, True)
        start_time_widget.value = format_time(state["start_frame"], video_props['fps'])

    def update_end_frame(diff, unit):
        minval = state["start_frame"]
        if unit == 'f':
            step = diff
        elif unit == 's':
            step = int(diff * video_props['fps'])
        elif unit == 'm':
            step = int(diff * 60 * video_props['fps'])
        state["end_frame"] = min(max(state["end_frame"] + step, minval), int(video_props['frames']) - 1)
        show_frame(state["end_frame"], end_image_out, end_time_label, end_frame_label, False)
        end_time_widget.value = format_time(state["end_frame"], video_props['fps'])

    # --- Atualiza widgets de tempo manualmente ---
    def on_start_time_change(change):
        maxval = state["end_frame"]
        state["start_frame"] = min(max(time_to_frame(parse_time(change['new']), video_props['fps']), 0), maxval)
        show_frame(state["start_frame"], start_image_out, start_time_label, start_frame_label, True)

    def on_end_time_change(change):
        minval = state["start_frame"]
        state["end_frame"] = min(max(time_to_frame(parse_time(change['new']), video_props['fps']), minval), int(video_props['frames']) - 1)
        show_frame(state["end_frame"], end_image_out, end_time_label, end_frame_label, False)

    # --- Widgets para editar tempos diretamente ---
    start_time_widget = widgets.Text(value=format_time(state["start_frame"], video_props['fps']), description="Início (M:S:ms):", style=style, layout=layout)
    end_time_widget = widgets.Text(value=format_time(state["end_frame"], video_props['fps']), description="Fim (M:S:ms):", style=style, layout=layout)
    start_time_widget.observe(on_start_time_change, names='value')
    end_time_widget.observe(on_end_time_change, names='value')

    # --- Cria botões de navegação organizados em grid ---
    def make_nav_buttons(update_func):
        rows = [
            [(-5, "-5f", 'f'), (-3, "-3f", 'f'), (-1, "-1f", 'f'), (1, "+1f", 'f'), (3, "+3f", 'f'), (5, "+5f", 'f')],
            [(-5, "-5s", 's'), (-3, "-3s", 's'), (-1, "-1s", 's'), (1, "+1s", 's'), (3, "+3s", 's'), (5, "+5s", 's')],
            [(-5, "-5m", 'm'), (-3, "-3m", 'm'), (-1, "-1m", 'm'), (1, "+1m", 'm'), (3, "+3m", 'm'), (5, "+5m", 'm')]
        ]
        box_rows = []
        for row in rows:
            btns = []
            for delta, lbl, unit in row:
                btn = widgets.Button(description=lbl, layout=widgets.Layout(width="52px", height="32px", margin="1px 1px 1px 1px"))
                btn.on_click(lambda b, d=delta, u=unit: update_func(d, u))
                btns.append(btn)
            box_rows.append(widgets.HBox(btns, layout=widgets.Layout(justify_content='center')))
        return widgets.VBox(box_rows, layout=widgets.Layout(width='100%'))

    nav_start = make_nav_buttons(update_start_frame)
    nav_end = make_nav_buttons(update_end_frame)

    # --- Atualiza a prévia ao mexer no timer ou fonte ---
    def update_timer_previews(change=None):
        show_frame(state["start_frame"], start_image_out, start_time_label, start_frame_label, True)
        show_frame(state["end_frame"], end_image_out, end_time_label, end_frame_label, False)
        update_interactive_preview()

    font_widget.observe(update_timer_previews, names='value')
    font_size_widget.observe(update_timer_previews, names='value')
    font_color_widget.observe(update_timer_previews, names='value')
    position_x_rta_widget.observe(update_timer_previews, names='value')
    position_y_rta_widget.observe(update_timer_previews, names='value')
    position_x_igt_widget.observe(update_timer_previews, names='value')
    position_y_igt_widget.observe(update_timer_previews, names='value')
    timer_type_widget.observe(update_timer_previews, names='value')
    include_load_times_widget.observe(update_timer_previews, names='value')

    # --- Render inicial ---
    show_frame(state["start_frame"], start_image_out, start_time_label, start_frame_label, True)
    show_frame(state["end_frame"], end_image_out, end_time_label, end_frame_label, False)
    update_interactive_preview()

    # --- Layout visual MOBILE ---
    inicio_box = widgets.VBox([
        widgets.HTML("<span style='font-weight:bold;font-size:1.1em'>Início</span>"),
        start_time_widget,
        widgets.HBox([start_time_label, start_frame_label]),
        nav_start,
        widgets.HTML("<span style='font-style:italic'>Prévia Início:</span>"),
        start_image_out
    ], layout=widgets.Layout(width='99%'))

    fim_box = widgets.VBox([
        widgets.HTML("<span style='font-weight:bold;font-size:1.1em'>Fim</span>"),
        end_time_widget,
        widgets.HBox([end_time_label, end_frame_label]),
        nav_end,
        widgets.HTML("<span style='font-style:italic'>Prévia Fim:</span>"),
        end_image_out
    ], layout=widgets.Layout(width='99%'))

    loads_box = widgets.VBox([
        widgets.HBox([widgets.Label("Loads"), add_load_btn], layout=widgets.Layout(align_items='center')),
        load_container,
        load_selector,
        widgets.HBox([
            widgets.VBox([
                widgets.HTML("<span style='font-style:italic'>Prévia Início Load:</span>"),
                load_start_preview
            ]),
            widgets.VBox([
                widgets.HTML("<span style='font-style:italic'>Prévia Fim Load:</span>"),
                load_end_preview
            ])
        ], layout=widgets.Layout(justify_content='space-between'))
    ], layout=widgets.Layout(width='99%'))

    # --- Layout geral ---
    final_layout = widgets.VBox([
        widgets.HTML(f"<h2>✅ Vídeo '{uploaded_filename}' Carregado!</h2>"),
        widgets.HTML("<b>Tempo total:</b> " + format_time(video_props['frames'], video_props['fps']) +
                     f" ({int(video_props['frames'])} frames @ {video_props['fps']:.3f} fps)"),
        widgets.HTML("<hr><h3>1. Escolha o <span style='color:green'>Início</span> e <span style='color:red'>Fim</span> do Timer</h3>"),
        inicio_box,
        fim_box,
        widgets.HTML("<hr><h3>2. Configurações do Timer</h3>"),
        timer_type_widget,
        include_load_times_widget,
        loads_box,
        font_widget, font_upload_btn, font_upload_output,
        font_size_widget, font_color_widget,
        position_x_rta_widget, position_y_rta_widget,
        position_x_igt_widget, position_y_igt_widget,
        widgets.HTML("<hr><b>Quando terminar, execute a <span style='color:blue'>CÉLULA 2</span>.</b>")
    ])

    display(final_layout)

# ===================================================================================
# CÉLULA 2: GERAR VÍDEO, COMBINAR ÁUDIO E BAIXAR (TUDO EM FPS DO VÍDEO)
# ===================================================================================

import subprocess

if not os.path.exists("video_para_editar.mp4") or 'video_props' not in locals():
    print("❌ ERRO: O vídeo não foi carregado ou as configurações não foram definidas. Por favor, execute a CÉLULA 1 primeiro.")
else:
    def list_system_fonts():
        font_dirs = [
            "/usr/share/fonts/truetype/roboto/",
            "/usr/share/fonts/truetype/dejavu/",
            "/usr/share/fonts/truetype/open-sans/",
            "/content/user_fonts"
        ]
        font_map = {}
        for dir_path in font_dirs:
            if os.path.exists(dir_path):
                for root, _, filenames in os.walk(dir_path):
                    for filename in filenames:
                        if filename.lower().endswith(".ttf"):
                            font_name = os.path.splitext(filename)[0].replace('-', ' ').title()
                            font_map[font_name] = os.path.join(root, filename)
        return font_map

    def parse_load_times(load_entries):
        load_times = []
        for entry in load_entries:
            start_sec = parse_time(entry['start'].value)
            end_sec = parse_time(entry['end'].value)
            if start_sec < end_sec:
                load_times.append((start_sec, end_sec))
        return load_times

    def calculate_rta_time(current_frame, start_frame, end_frame, load_times, include_load_times):
        current_sec = current_frame / video_props['fps']
        start_sec = start_frame / video_props['fps']
        end_sec = end_frame / video_props['fps']
        if current_frame < start_frame:
            return 0
        if current_frame == start_frame:
            return 0  # Garante que o start_frame seja 00:00.000
        if current_sec >= end_sec:
            return end_sec - start_sec  # Congela no valor final
        time_elapsed = (current_frame - start_frame) / video_props['fps']  # Cálculo direto
        if not include_load_times:
            load_duration = sum(min(end_sec, end) - max(start_sec, start) for start, end in load_times if start <= end_sec)
            return max(0, time_elapsed - load_duration)
        return time_elapsed

    def calculate_igt_time(current_frame, start_frame, end_frame, load_times):
        current_sec = current_frame / video_props['fps']
        start_sec = start_frame / video_props['fps']
        end_sec = end_frame / video_props['fps']
        if current_frame < start_frame:
            return 0
        if current_frame == start_frame:
            return 0  # Garante que o start_frame seja 00:00.000
        if current_sec >= end_sec:
            return end_sec - start_sec  # Congela no valor final
        time_elapsed = (current_frame - start_frame) / video_props['fps']  # Cálculo direto
        # Pausa a contagem durante os load times
        for load_start, load_end in load_times:
            if load_start <= current_sec <= load_end:
                # Encontra o último valor válido antes do load
                last_valid_frame = max(start_frame, time_to_frame(load_start - 0.001, video_props['fps']))
                return (last_valid_frame - start_frame) / video_props['fps']
        load_duration = sum(min(end_sec, end) - max(start_sec, start) for start, end in load_times if start <= current_sec)
        return max(0, time_elapsed - load_duration)

    # --- Capturar valores dos widgets ---
    font_map = list_system_fonts()
    start_frame = state["start_frame"]
    end_frame = state["end_frame"]
    timer_fps = video_props['fps']
    font_path = font_map[font_widget.value]
    font = ImageFont.truetype(font_path, font_size_widget.value)
    color = color_name_to_rgb(font_color_widget.value)
    timer_type = timer_type_widget.value
    include_load_times = include_load_times_widget.value
    load_times = parse_load_times(load_entries)
    position_rta = (position_x_rta_widget.value, position_y_rta_widget.value)
    position_igt = (position_x_igt_widget.value, position_y_igt_widget.value)

    video_sem_som_path = "/content/video_sem_som.mp4"
    audio_original_path = "/content/audio_original.aac"
    video_final_path = "/content/video_final_com_som.mp4"

    # --- Validação de tempo ---
    if start_frame >= end_frame:
        print(f"❌ ERRO: O frame de início ({start_frame}) deve ser MENOR que o frame de fim ({end_frame}).")
    else:
        print("⏳ Etapa 1/3: Gerando vídeo com o timer (sem som)...")
        cap = cv2.VideoCapture("video_para_editar.mp4")
        out = cv2.VideoWriter(video_sem_som_path, cv2.VideoWriter_fourcc(*'mp4v'), video_props['fps'], (video_props['w'], video_props['h']))
        total_frames = int(video_props['frames'])

        for i in tqdm(range(total_frames), desc="Renderizando frames"):
            ret, frame = cap.read()
            if not ret: break

            pil_img = Image.fromarray(cv2.cvtColor(frame, cv2.COLOR_BGR2RGB))
            draw = ImageDraw.Draw(pil_img)

            # Timer sempre visível
            if timer_type == 'RTA' or timer_type == 'Ambos (RTA + IGT)':
                rta_time = calculate_rta_time(i, start_frame, end_frame, load_times, include_load_times)
                rta_str = format_time(int(round(rta_time * 1000)) / 1000 * timer_fps, timer_fps)  # Arredondamento para milissegundos
                draw.text(position_rta, f"RTA: {rta_str}", font=font, fill=color)

            if timer_type == 'IGT' or timer_type == 'Ambos (RTA + IGT)':
                igt_time = calculate_igt_time(i, start_frame, end_frame, load_times)
                igt_str = format_time(int(round(igt_time * 1000)) / 1000 * timer_fps, timer_fps)  # Arredondamento para milissegundos
                draw.text(position_igt, f"IGT: {igt_str}", font=font, fill=color)

            frame = cv2.cvtColor(np.array(pil_img), cv2.COLOR_RGB2BGR)
            out.write(frame)

        cap.release()
        out.release()
        if not os.path.exists(video_sem_som_path):
            print(f"❌ ERRO: O arquivo {video_sem_som_path} não foi criado. Verifique os logs acima.")
        else:
            print("✅ Vídeo com timer gerado.")

        if os.path.exists(video_sem_som_path):
            print("\n⏳ Etapa 2/3: Extraindo áudio do vídeo original...")
            cmd = ["ffmpeg", "-y", "-i", "video_para_editar.mp4", "-vn", "-acodec", "aac", audio_original_path, "-loglevel", "error"]
            process = subprocess.run(cmd, stderr=subprocess.PIPE, text=True)
            if process.returncode != 0:
                print(f"❌ ERRO: Falha ao extrair áudio. Mensagem FFmpeg: {process.stderr}")
            if not os.path.exists(audio_original_path):
                print(f"❌ ERRO: O arquivo {audio_original_path} não foi criado. Verifique o comando FFmpeg.")
            else:
                print("✅ Áudio extraído.")

            if os.path.exists(audio_original_path):
                print("\n⏳ Etapa 3/3: Combinando vídeo e áudio para o arquivo final...")
                cmd = ["ffmpeg", "-y", "-i", video_sem_som_path, "-i", audio_original_path, "-c:v", "copy", "-c:a", "copy", "-shortest", video_final_path, "-loglevel", "error"]
                process = subprocess.run(cmd, stderr=subprocess.PIPE, text=True)
                if process.returncode != 0:
                    print(f"❌ ERRO: Falha ao combinar vídeo e áudio. Mensagem FFmpeg: {process.stderr}")
                if not os.path.exists(video_final_path):
                    print(f"❌ ERRO: O arquivo {video_final_path} não foi criado. Verifique o comando FFmpeg.")
                else:
                    print("✅ VÍDEO FINAL COM SOM GERADO COM SUCESSO!")
                    print(f"📍 Salvo em: {video_final_path}")
                    print("\nIniciando o download automático...")
                    os.remove("video_para_editar.mp4")
                    os.remove(video_sem_som_path)
                    os.remove(audio_original_path)
                    files.download(video_final_path)
            else:
                print("❌ ERRO: Não foi possível prosseguir para a combinação devido à falta do arquivo de áudio.")
        else:
            print("❌ ERRO: Não foi possível prosseguir para a extração de áudio devido à falta do vídeo sem som.")